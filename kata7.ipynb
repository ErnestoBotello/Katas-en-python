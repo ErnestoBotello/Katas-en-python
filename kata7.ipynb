{
 "cells": [
  {
   "cell_type": "code",
   "execution_count": 1,
   "metadata": {},
   "outputs": [
    {
     "name": "stdout",
     "output_type": "stream",
     "text": [
      "Ingrese los nombres de los planetas o ingrese 'done' para terminar el proceso\n",
      "Ingrese los nombres de los planetas o ingrese 'done' para terminar el proceso\n",
      "Ingrese los nombres de los planetas o ingrese 'done' para terminar el proceso\n",
      "Ingrese los nombres de los planetas o ingrese 'done' para terminar el proceso\n",
      "Proceso finalizado, los planetas ingresados fueron:  ['mercurio', 'venus', 'tierra']\n"
     ]
    }
   ],
   "source": [
    "planets = []\n",
    "new_planet = \"\"\n",
    "while new_planet != 'done':\n",
    "    print(\"Ingrese los nombres de los planetas o ingrese 'done' para terminar el proceso\")\n",
    "    new_planet = input()\n",
    "    if new_planet != 'done':\n",
    "        planets.append(new_planet)\n",
    "print(\"Proceso finalizado, los planetas ingresados fueron: \", planets)"
   ]
  },
  {
   "cell_type": "markdown",
   "metadata": {},
   "source": [
    "Ejercicio 2"
   ]
  },
  {
   "cell_type": "code",
   "execution_count": 2,
   "metadata": {},
   "outputs": [
    {
     "name": "stdout",
     "output_type": "stream",
     "text": [
      "mercurio\n",
      "venus\n",
      "tierra\n"
     ]
    }
   ],
   "source": [
    "for planet in planets:\n",
    "    print(planet)"
   ]
  }
 ],
 "metadata": {
  "interpreter": {
   "hash": "a03ff44ec1fcee9640f4bdfd1d63746224a58cf927036271d00526ccb0585fb9"
  },
  "kernelspec": {
   "display_name": "Python 3.10.2 64-bit",
   "language": "python",
   "name": "python3"
  },
  "language_info": {
   "codemirror_mode": {
    "name": "ipython",
    "version": 3
   },
   "file_extension": ".py",
   "mimetype": "text/x-python",
   "name": "python",
   "nbconvert_exporter": "python",
   "pygments_lexer": "ipython3",
   "version": "3.10.2"
  },
  "orig_nbformat": 4
 },
 "nbformat": 4,
 "nbformat_minor": 2
}
