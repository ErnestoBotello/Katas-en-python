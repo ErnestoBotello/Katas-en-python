{
 "cells": [
  {
   "cell_type": "code",
   "execution_count": 4,
   "metadata": {},
   "outputs": [
    {
     "name": "stdout",
     "output_type": "stream",
     "text": [
      "la cantidad de planetas es 8\n",
      "El ultimo planeta es  pluton\n"
     ]
    }
   ],
   "source": [
    "planets = [\"mercurio\", \"venus\",\"tierra\",\"marte\",\"jupiter\",\"saturno\",\"urano\",\"neptuno\"] \n",
    "print (\"la cantidad de planetas es \" + str(len(planets)) )\n",
    "planets.append(\"pluton\")\n",
    "print(\"El ultimo planeta es \",planets[-1])\n"
   ]
  },
  {
   "cell_type": "markdown",
   "metadata": {},
   "source": [
    "Ejercicio 2"
   ]
  },
  {
   "cell_type": "code",
   "execution_count": 5,
   "metadata": {},
   "outputs": [
    {
     "name": "stdout",
     "output_type": "stream",
     "text": [
      "Los planetas mas cercanos al sol que Tierra son: ['mercurio', 'venus']\n",
      "Los planetas mas lejanos al sol que Tierra son: ['Marte', 'Jupiter', 'Saturno', 'Urano', 'Neptuno']\n"
     ]
    }
   ],
   "source": [
    "planets = [\"mercurio\",\"venus\",\"Tierra\",\"Marte\",\"Jupiter\",\"Saturno\",\"Urano\",\"Neptuno\"]\n",
    "nombre_planeta =input(\"Ingrese el nombre de un planeta con la primera letra mayuscula\")\n",
    "indice = planets.index(nombre_planeta)\n",
    "print(\"Los planetas mas cercanos al sol que\", nombre_planeta,\"son:\",planets[0:indice] )\n",
    "print(\"Los planetas mas lejanos al sol que\", nombre_planeta,\"son:\",planets[indice+1:8] )"
   ]
  }
 ],
 "metadata": {
  "interpreter": {
   "hash": "a03ff44ec1fcee9640f4bdfd1d63746224a58cf927036271d00526ccb0585fb9"
  },
  "kernelspec": {
   "display_name": "Python 3.10.2 64-bit",
   "language": "python",
   "name": "python3"
  },
  "language_info": {
   "codemirror_mode": {
    "name": "ipython",
    "version": 3
   },
   "file_extension": ".py",
   "mimetype": "text/x-python",
   "name": "python",
   "nbconvert_exporter": "python",
   "pygments_lexer": "ipython3",
   "version": "3.10.2"
  },
  "orig_nbformat": 4
 },
 "nbformat": 4,
 "nbformat_minor": 2
}
