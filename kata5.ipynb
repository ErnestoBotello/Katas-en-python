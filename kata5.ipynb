{
 "cells": [
  {
   "cell_type": "code",
   "execution_count": 4,
   "metadata": {},
   "outputs": [
    {
     "name": "stdout",
     "output_type": "stream",
     "text": [
      "la distancia es 628949330\n",
      "La distancia en millas es 39057753.393\n"
     ]
    }
   ],
   "source": [
    "#distancias en km\n",
    "tierra = 149597870\n",
    "jupiter = 778547200\n",
    "#Calculo de distancias\n",
    "distancia = ( jupiter - tierra )\n",
    "print ('la distancia es ' + str(distancia))\n",
    "print ('La distancia en millas es ' + str(distancia*.0621))"
   ]
  },
  {
   "cell_type": "markdown",
   "metadata": {},
   "source": [
    "Ejercicio 2"
   ]
  },
  {
   "cell_type": "code",
   "execution_count": 6,
   "metadata": {},
   "outputs": [
    {
     "name": "stdout",
     "output_type": "stream",
     "text": [
      "Distancia entre los dos planetas en Km =  500\n",
      "Distancia entre los dos planetas en Millas =  31.05\n"
     ]
    }
   ],
   "source": [
    "\n",
    "Planeta1 = input(\"Ingrese el valor del primer planeta\")\n",
    "Planeta2 = input(\"Ingrese el valor del segundo planeta\")\n",
    "\n",
    "planeta1conv = int(Planeta1)\n",
    "planeta2conv = int(Planeta2)\n",
    "\n",
    "#Calculamos la distancia absoluta\n",
    "\n",
    "Distancia = abs(planeta2conv-planeta1conv)\n",
    "DistanciaM = abs(planeta2conv-planeta1conv) * .0621\n",
    "print(\"Distancia entre los planetas en Km = \", Distancia)\n",
    "print(\"Distancia entre los planetas en Millas = \", DistanciaM)\n"
   ]
  }
 ],
 "metadata": {
  "interpreter": {
   "hash": "a03ff44ec1fcee9640f4bdfd1d63746224a58cf927036271d00526ccb0585fb9"
  },
  "kernelspec": {
   "display_name": "Python 3.10.2 64-bit",
   "language": "python",
   "name": "python3"
  },
  "language_info": {
   "codemirror_mode": {
    "name": "ipython",
    "version": 3
   },
   "file_extension": ".py",
   "mimetype": "text/x-python",
   "name": "python",
   "nbconvert_exporter": "python",
   "pygments_lexer": "ipython3",
   "version": "3.10.2"
  },
  "orig_nbformat": 4
 },
 "nbformat": 4,
 "nbformat_minor": 2
}
