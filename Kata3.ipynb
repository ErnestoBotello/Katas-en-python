{
 "cells": [
  {
   "cell_type": "code",
   "execution_count": 1,
   "metadata": {},
   "outputs": [
    {
     "name": "stdout",
     "output_type": "stream",
     "text": [
      "Advertencia, se acerca un asteroide a la tierra\n"
     ]
    }
   ],
   "source": [
    "a=49\n",
    "if a>45:\n",
    "    print(\"Advertencia, se acerca un asteroide a la tierra\")\n",
    "\n",
    "   "
   ]
  },
  {
   "cell_type": "code",
   "execution_count": 2,
   "metadata": {},
   "outputs": [],
   "source": [
    "b=19\n",
    "if b>=20:\n",
    "    print(\"Se aproxima un asteroide, pueden salir a verlo\")"
   ]
  },
  {
   "cell_type": "code",
   "execution_count": 3,
   "metadata": {},
   "outputs": [
    {
     "name": "stdout",
     "output_type": "stream",
     "text": [
      "Precaucion, peligro de Colision\n",
      " Advertencia, pueden ver el asteroide desde la tierra\n"
     ]
    }
   ],
   "source": [
    "Dimension=40\n",
    "Velocidad=20\n",
    "if Dimension<25:\n",
    "    print(\"No hay peligro\")\n",
    "elif Dimension>25 and Dimension<1000:\n",
    "    print (\"Precaucion, peligro de Colision\")\n",
    "    \n",
    "if Velocidad>25:\n",
    "    print(\"Advertencia\")\n",
    "elif Velocidad >= 20:\n",
    "    print(\" Advertencia, pueden ver el asteroide desde la tierra\")\n"
   ]
  }
 ],
 "metadata": {
  "interpreter": {
   "hash": "a03ff44ec1fcee9640f4bdfd1d63746224a58cf927036271d00526ccb0585fb9"
  },
  "kernelspec": {
   "display_name": "Python 3.10.2 64-bit",
   "language": "python",
   "name": "python3"
  },
  "language_info": {
   "codemirror_mode": {
    "name": "ipython",
    "version": 3
   },
   "file_extension": ".py",
   "mimetype": "text/x-python",
   "name": "python",
   "nbconvert_exporter": "python",
   "pygments_lexer": "ipython3",
   "version": "3.10.2"
  },
  "orig_nbformat": 4
 },
 "nbformat": 4,
 "nbformat_minor": 2
}
